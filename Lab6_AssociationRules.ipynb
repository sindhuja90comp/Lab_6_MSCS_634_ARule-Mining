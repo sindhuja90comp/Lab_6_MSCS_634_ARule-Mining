{
 "cells": [
  {
   "attachments": {},
   "cell_type": "markdown",
   "metadata": {},
   "source": [
    "# Lab 6: Association Rule Mining – Apriori and FP-Growth\n",
    "**Name:** Sindhuja Martha\n",
    "**Course:** MSCS-634-B01  \n",
    "**Lab Title:** Association Rule Mining with Apriori and FP-Growth  \n"
   ]
  },
  {
   "cell_type": "code",
   "execution_count": 2,
   "metadata": {},
   "outputs": [],
   "source": [
    "# Import necessary libraries\n",
    "import pandas as pd\n",
    "import numpy as np\n",
    "import seaborn as sns\n",
    "import matplotlib.pyplot as plt\n",
    "from mlxtend.frequent_patterns import apriori, fpgrowth, association_rules\n",
    "\n",
    "# Display settings\n",
    "pd.set_option('display.max_columns', None)\n",
    "pd.set_option('display.width', 1000)\n"
   ]
  },
  {
   "attachments": {},
   "cell_type": "markdown",
   "metadata": {},
   "source": [
    "## Step 1: Data Preparation\n",
    "- Load a transactional dataset.\n",
    "- Perform cleaning (remove missing values/duplicates).\n",
    "- Create visualizations to explore data (barplots, heatmaps).\n"
   ]
  },
  {
   "cell_type": "code",
   "execution_count": 3,
   "metadata": {},
   "outputs": [
    {
     "data": {
      "text/html": [
       "<div>\n",
       "<style scoped>\n",
       "    .dataframe tbody tr th:only-of-type {\n",
       "        vertical-align: middle;\n",
       "    }\n",
       "\n",
       "    .dataframe tbody tr th {\n",
       "        vertical-align: top;\n",
       "    }\n",
       "\n",
       "    .dataframe thead th {\n",
       "        text-align: right;\n",
       "    }\n",
       "</style>\n",
       "<table border=\"1\" class=\"dataframe\">\n",
       "  <thead>\n",
       "    <tr style=\"text-align: right;\">\n",
       "      <th></th>\n",
       "      <th>Date</th>\n",
       "      <th>Product</th>\n",
       "      <th>Sales Person</th>\n",
       "      <th>Boxes Shipped</th>\n",
       "      <th>Amount ($)</th>\n",
       "      <th>Country</th>\n",
       "    </tr>\n",
       "  </thead>\n",
       "  <tbody>\n",
       "    <tr>\n",
       "      <th>0</th>\n",
       "      <td>2022-02-06</td>\n",
       "      <td>Pain Relief Tablets</td>\n",
       "      <td>Divya Mehra</td>\n",
       "      <td>7</td>\n",
       "      <td>67.43</td>\n",
       "      <td>Australia</td>\n",
       "    </tr>\n",
       "    <tr>\n",
       "      <th>1</th>\n",
       "      <td>2022-02-05</td>\n",
       "      <td>Antiseptic Cream</td>\n",
       "      <td>Nikhil Batra</td>\n",
       "      <td>18</td>\n",
       "      <td>421.46</td>\n",
       "      <td>Canada</td>\n",
       "    </tr>\n",
       "    <tr>\n",
       "      <th>2</th>\n",
       "      <td>2022-02-19</td>\n",
       "      <td>Cough Syrup</td>\n",
       "      <td>Ritika Shah</td>\n",
       "      <td>2</td>\n",
       "      <td>48.25</td>\n",
       "      <td>UK</td>\n",
       "    </tr>\n",
       "    <tr>\n",
       "      <th>3</th>\n",
       "      <td>2022-03-28</td>\n",
       "      <td>Pain Relief Tablets</td>\n",
       "      <td>Nikhil Batra</td>\n",
       "      <td>5</td>\n",
       "      <td>59.89</td>\n",
       "      <td>UK</td>\n",
       "    </tr>\n",
       "    <tr>\n",
       "      <th>4</th>\n",
       "      <td>2022-01-17</td>\n",
       "      <td>Digestive Enzyme</td>\n",
       "      <td>Ritika Shah</td>\n",
       "      <td>8</td>\n",
       "      <td>147.73</td>\n",
       "      <td>USA</td>\n",
       "    </tr>\n",
       "  </tbody>\n",
       "</table>\n",
       "</div>"
      ],
      "text/plain": [
       "         Date              Product  Sales Person  Boxes Shipped  Amount ($)    Country\n",
       "0  2022-02-06  Pain Relief Tablets   Divya Mehra              7       67.43  Australia\n",
       "1  2022-02-05     Antiseptic Cream  Nikhil Batra             18      421.46     Canada\n",
       "2  2022-02-19          Cough Syrup   Ritika Shah              2       48.25         UK\n",
       "3  2022-03-28  Pain Relief Tablets  Nikhil Batra              5       59.89         UK\n",
       "4  2022-01-17     Digestive Enzyme   Ritika Shah              8      147.73        USA"
      ]
     },
     "execution_count": 3,
     "metadata": {},
     "output_type": "execute_result"
    }
   ],
   "source": [
    "# Load the dataset (replace with your dataset path)\n",
    "data = pd.read_csv(\"OnlineRetail.csv\", encoding='ISO-8859-1')\n",
    "\n",
    "# Show first 5 rows\n",
    "data.head()\n"
   ]
  },
  {
   "attachments": {},
   "cell_type": "markdown",
   "metadata": {},
   "source": [
    "## Prepare Basket Format\n",
    "- Convert transactional data into a matrix format with transactions as rows and items as columns.\n",
    "- Use one-hot encoding: 1 if item purchased in a transaction, else 0.\n"
   ]
  },
  {
   "cell_type": "code",
   "execution_count": 8,
   "metadata": {},
   "outputs": [
    {
     "name": "stderr",
     "output_type": "stream",
     "text": [
      "/var/folders/3j/rf90718s4t3c_y1hyrrz5p4r0000gn/T/ipykernel_6582/3029443000.py:10: FutureWarning: DataFrame.applymap has been deprecated. Use DataFrame.map instead.\n",
      "  basket = basket.applymap(lambda x: 1 if x > 0 else 0)\n"
     ]
    },
    {
     "data": {
      "text/html": [
       "<div>\n",
       "<style scoped>\n",
       "    .dataframe tbody tr th:only-of-type {\n",
       "        vertical-align: middle;\n",
       "    }\n",
       "\n",
       "    .dataframe tbody tr th {\n",
       "        vertical-align: top;\n",
       "    }\n",
       "\n",
       "    .dataframe thead th {\n",
       "        text-align: right;\n",
       "    }\n",
       "</style>\n",
       "<table border=\"1\" class=\"dataframe\">\n",
       "  <thead>\n",
       "    <tr style=\"text-align: right;\">\n",
       "      <th>Product</th>\n",
       "      <th>Allergy Pills</th>\n",
       "      <th>Antiseptic Cream</th>\n",
       "      <th>Cough Syrup</th>\n",
       "      <th>Digestive Enzyme</th>\n",
       "      <th>Eye Drops</th>\n",
       "      <th>Nasal Spray</th>\n",
       "      <th>Pain Relief Tablets</th>\n",
       "    </tr>\n",
       "    <tr>\n",
       "      <th>Date</th>\n",
       "      <th></th>\n",
       "      <th></th>\n",
       "      <th></th>\n",
       "      <th></th>\n",
       "      <th></th>\n",
       "      <th></th>\n",
       "      <th></th>\n",
       "    </tr>\n",
       "  </thead>\n",
       "  <tbody>\n",
       "    <tr>\n",
       "      <th>2022-01-02</th>\n",
       "      <td>0</td>\n",
       "      <td>0</td>\n",
       "      <td>0</td>\n",
       "      <td>1</td>\n",
       "      <td>0</td>\n",
       "      <td>0</td>\n",
       "      <td>1</td>\n",
       "    </tr>\n",
       "    <tr>\n",
       "      <th>2022-01-05</th>\n",
       "      <td>0</td>\n",
       "      <td>0</td>\n",
       "      <td>0</td>\n",
       "      <td>0</td>\n",
       "      <td>1</td>\n",
       "      <td>0</td>\n",
       "      <td>0</td>\n",
       "    </tr>\n",
       "    <tr>\n",
       "      <th>2022-01-06</th>\n",
       "      <td>0</td>\n",
       "      <td>0</td>\n",
       "      <td>0</td>\n",
       "      <td>0</td>\n",
       "      <td>1</td>\n",
       "      <td>0</td>\n",
       "      <td>0</td>\n",
       "    </tr>\n",
       "    <tr>\n",
       "      <th>2022-01-07</th>\n",
       "      <td>1</td>\n",
       "      <td>1</td>\n",
       "      <td>0</td>\n",
       "      <td>1</td>\n",
       "      <td>1</td>\n",
       "      <td>0</td>\n",
       "      <td>0</td>\n",
       "    </tr>\n",
       "    <tr>\n",
       "      <th>2022-01-08</th>\n",
       "      <td>0</td>\n",
       "      <td>0</td>\n",
       "      <td>1</td>\n",
       "      <td>0</td>\n",
       "      <td>0</td>\n",
       "      <td>0</td>\n",
       "      <td>0</td>\n",
       "    </tr>\n",
       "  </tbody>\n",
       "</table>\n",
       "</div>"
      ],
      "text/plain": [
       "Product     Allergy Pills  Antiseptic Cream  Cough Syrup  Digestive Enzyme  Eye Drops  Nasal Spray  Pain Relief Tablets\n",
       "Date                                                                                                                   \n",
       "2022-01-02              0                 0            0                 1          0            0                    1\n",
       "2022-01-05              0                 0            0                 0          1            0                    0\n",
       "2022-01-06              0                 0            0                 0          1            0                    0\n",
       "2022-01-07              1                 1            0                 1          1            0                    0\n",
       "2022-01-08              0                 0            1                 0          0            0                    0"
      ]
     },
     "execution_count": 8,
     "metadata": {},
     "output_type": "execute_result"
    }
   ],
   "source": [
    "import pandas as pd\n",
    "\n",
    "# Load your dataset\n",
    "data = pd.read_csv(\"OnlineRetail.csv\")\n",
    "\n",
    "# Group by Date and Product, count the number of times each product was sold on each date\n",
    "basket = data.groupby(['Date', 'Product'])['Product'].count().unstack().fillna(0)\n",
    "\n",
    "# Convert counts to 1/0 for presence/absence (for association rule mining)\n",
    "basket = basket.applymap(lambda x: 1 if x > 0 else 0)\n",
    "\n",
    "basket.head()\n",
    "\n"
   ]
  },
  {
   "cell_type": "code",
   "execution_count": 5,
   "metadata": {},
   "outputs": [
    {
     "name": "stdout",
     "output_type": "stream",
     "text": [
      "Index(['Date', 'Product', 'Sales Person', 'Boxes Shipped', 'Amount ($)', 'Country'], dtype='object')\n"
     ]
    }
   ],
   "source": [
    "print(data.columns)\n"
   ]
  },
  {
   "attachments": {},
   "cell_type": "markdown",
   "metadata": {},
   "source": [
    "## Visualize Top Items\n",
    "- Visualize the top 10 most frequently purchased items using bar plots.\n"
   ]
  },
  {
   "cell_type": "code",
   "execution_count": 10,
   "metadata": {},
   "outputs": [
    {
     "name": "stderr",
     "output_type": "stream",
     "text": [
      "/var/folders/3j/rf90718s4t3c_y1hyrrz5p4r0000gn/T/ipykernel_6582/3506187830.py:6: FutureWarning: \n",
      "\n",
      "Passing `palette` without assigning `hue` is deprecated and will be removed in v0.14.0. Assign the `y` variable to `hue` and set `legend=False` for the same effect.\n",
      "\n",
      "  sns.barplot(x=top_items.values, y=top_items.index, palette='coolwarm')\n"
     ]
    },
    {
     "data": {
      "image/png": "[encoded data removed]",
      "text/plain": [
       "<Figure size 640x480 with 1 Axes>"
      ]
     },
     "metadata": {},
     "output_type": "display_data"
    }
   ],
   "source": [
    "import seaborn as sns\n",
    "import matplotlib.pyplot as plt\n",
    "\n",
    "top_items = data['Product'].value_counts().head(10)\n",
    "\n",
    "sns.barplot(x=top_items.values, y=top_items.index, palette='coolwarm')\n",
    "plt.title('Top 10 Most Frequent Products')\n",
    "plt.xlabel('Count')\n",
    "plt.ylabel('Product')\n",
    "plt.show()\n",
    "\n"
   ]
  },
  {
   "attachments": {},
   "cell_type": "markdown",
   "metadata": {},
   "source": [
    "## Step 2: Frequent Itemset Mining Using Apriori\n",
    "- Use Apriori algorithm to find frequent itemsets with a minimum support threshold.\n"
   ]
  },
  {
   "cell_type": "code",
   "execution_count": 11,
   "metadata": {},
   "outputs": [
    {
     "name": "stderr",
     "output_type": "stream",
     "text": [
      "/Library/Frameworks/Python.framework/Versions/3.12/lib/python3.12/site-packages/mlxtend/frequent_patterns/fpcommon.py:161: DeprecationWarning: DataFrames with non-bool types result in worse computationalperformance and their support might be discontinued in the future.Please use a DataFrame with bool type\n",
      "  warnings.warn(\n"
     ]
    },
    {
     "data": {
      "text/html": [
       "<div>\n",
       "<style scoped>\n",
       "    .dataframe tbody tr th:only-of-type {\n",
       "        vertical-align: middle;\n",
       "    }\n",
       "\n",
       "    .dataframe tbody tr th {\n",
       "        vertical-align: top;\n",
       "    }\n",
       "\n",
       "    .dataframe thead th {\n",
       "        text-align: right;\n",
       "    }\n",
       "</style>\n",
       "<table border=\"1\" class=\"dataframe\">\n",
       "  <thead>\n",
       "    <tr style=\"text-align: right;\">\n",
       "      <th></th>\n",
       "      <th>support</th>\n",
       "      <th>itemsets</th>\n",
       "    </tr>\n",
       "  </thead>\n",
       "  <tbody>\n",
       "    <tr>\n",
       "      <th>1</th>\n",
       "      <td>0.279330</td>\n",
       "      <td>(Antiseptic Cream)</td>\n",
       "    </tr>\n",
       "    <tr>\n",
       "      <th>5</th>\n",
       "      <td>0.256983</td>\n",
       "      <td>(Nasal Spray)</td>\n",
       "    </tr>\n",
       "    <tr>\n",
       "      <th>3</th>\n",
       "      <td>0.256983</td>\n",
       "      <td>(Digestive Enzyme)</td>\n",
       "    </tr>\n",
       "    <tr>\n",
       "      <th>4</th>\n",
       "      <td>0.240223</td>\n",
       "      <td>(Eye Drops)</td>\n",
       "    </tr>\n",
       "    <tr>\n",
       "      <th>0</th>\n",
       "      <td>0.234637</td>\n",
       "      <td>(Allergy Pills)</td>\n",
       "    </tr>\n",
       "    <tr>\n",
       "      <th>6</th>\n",
       "      <td>0.206704</td>\n",
       "      <td>(Pain Relief Tablets)</td>\n",
       "    </tr>\n",
       "    <tr>\n",
       "      <th>2</th>\n",
       "      <td>0.201117</td>\n",
       "      <td>(Cough Syrup)</td>\n",
       "    </tr>\n",
       "    <tr>\n",
       "      <th>7</th>\n",
       "      <td>0.067039</td>\n",
       "      <td>(Antiseptic Cream, Allergy Pills)</td>\n",
       "    </tr>\n",
       "    <tr>\n",
       "      <th>15</th>\n",
       "      <td>0.067039</td>\n",
       "      <td>(Eye Drops, Antiseptic Cream)</td>\n",
       "    </tr>\n",
       "    <tr>\n",
       "      <th>22</th>\n",
       "      <td>0.067039</td>\n",
       "      <td>(Nasal Spray, Digestive Enzyme)</td>\n",
       "    </tr>\n",
       "  </tbody>\n",
       "</table>\n",
       "</div>"
      ],
      "text/plain": [
       "     support                           itemsets\n",
       "1   0.279330                 (Antiseptic Cream)\n",
       "5   0.256983                      (Nasal Spray)\n",
       "3   0.256983                 (Digestive Enzyme)\n",
       "4   0.240223                        (Eye Drops)\n",
       "0   0.234637                    (Allergy Pills)\n",
       "6   0.206704              (Pain Relief Tablets)\n",
       "2   0.201117                      (Cough Syrup)\n",
       "7   0.067039  (Antiseptic Cream, Allergy Pills)\n",
       "15  0.067039      (Eye Drops, Antiseptic Cream)\n",
       "22  0.067039    (Nasal Spray, Digestive Enzyme)"
      ]
     },
     "execution_count": 11,
     "metadata": {},
     "output_type": "execute_result"
    }
   ],
   "source": [
    "frequent_itemsets_apriori = apriori(basket, min_support=0.02, use_colnames=True)\n",
    "frequent_itemsets_apriori.sort_values(by='support', ascending=False, inplace=True)\n",
    "frequent_itemsets_apriori.head(10)\n"
   ]
  },
  {
   "attachments": {},
   "cell_type": "markdown",
   "metadata": {},
   "source": [
    "## Visualize Top Apriori Itemsets\n",
    "- Plot the top 10 frequent itemsets discovered by Apriori.\n"
   ]
  },
  {
   "cell_type": "code",
   "execution_count": 12,
   "metadata": {},
   "outputs": [
    {
     "name": "stderr",
     "output_type": "stream",
     "text": [
      "/var/folders/3j/rf90718s4t3c_y1hyrrz5p4r0000gn/T/ipykernel_6582/3521366457.py:2: FutureWarning: \n",
      "\n",
      "Passing `palette` without assigning `hue` is deprecated and will be removed in v0.14.0. Assign the `y` variable to `hue` and set `legend=False` for the same effect.\n",
      "\n",
      "  sns.barplot(x=top_apriori['support'], y=top_apriori['itemsets'].astype(str), palette='viridis')\n"
     ]
    },
    {
     "data": {
      "image/png": "[encoded data removed]",
      "text/plain": [
       "<Figure size 640x480 with 1 Axes>"
      ]
     },
     "metadata": {},
     "output_type": "display_data"
    }
   ],
   "source": [
    "top_apriori = frequent_itemsets_apriori.head(10)\n",
    "sns.barplot(x=top_apriori['support'], y=top_apriori['itemsets'].astype(str), palette='viridis')\n",
    "plt.title('Top 10 Frequent Itemsets (Apriori)')\n",
    "plt.xlabel('Support')\n",
    "plt.ylabel('Itemsets')\n",
    "plt.show()\n"
   ]
  },
  {
   "attachments": {},
   "cell_type": "markdown",
   "metadata": {},
   "source": [
    "## Step 3: Frequent Itemset Mining Using FP-Growth\n",
    "- Use FP-Growth algorithm with the same support threshold.\n",
    "- Compare efficiency with Apriori.\n"
   ]
  },
  {
   "cell_type": "code",
   "execution_count": 13,
   "metadata": {},
   "outputs": [
    {
     "name": "stderr",
     "output_type": "stream",
     "text": [
      "/Library/Frameworks/Python.framework/Versions/3.12/lib/python3.12/site-packages/mlxtend/frequent_patterns/fpcommon.py:161: DeprecationWarning: DataFrames with non-bool types result in worse computationalperformance and their support might be discontinued in the future.Please use a DataFrame with bool type\n",
      "  warnings.warn(\n"
     ]
    },
    {
     "data": {
      "text/html": [
       "<div>\n",
       "<style scoped>\n",
       "    .dataframe tbody tr th:only-of-type {\n",
       "        vertical-align: middle;\n",
       "    }\n",
       "\n",
       "    .dataframe tbody tr th {\n",
       "        vertical-align: top;\n",
       "    }\n",
       "\n",
       "    .dataframe thead th {\n",
       "        text-align: right;\n",
       "    }\n",
       "</style>\n",
       "<table border=\"1\" class=\"dataframe\">\n",
       "  <thead>\n",
       "    <tr style=\"text-align: right;\">\n",
       "      <th></th>\n",
       "      <th>support</th>\n",
       "      <th>itemsets</th>\n",
       "    </tr>\n",
       "  </thead>\n",
       "  <tbody>\n",
       "    <tr>\n",
       "      <th>3</th>\n",
       "      <td>0.279330</td>\n",
       "      <td>(Antiseptic Cream)</td>\n",
       "    </tr>\n",
       "    <tr>\n",
       "      <th>6</th>\n",
       "      <td>0.256983</td>\n",
       "      <td>(Nasal Spray)</td>\n",
       "    </tr>\n",
       "    <tr>\n",
       "      <th>0</th>\n",
       "      <td>0.256983</td>\n",
       "      <td>(Digestive Enzyme)</td>\n",
       "    </tr>\n",
       "    <tr>\n",
       "      <th>2</th>\n",
       "      <td>0.240223</td>\n",
       "      <td>(Eye Drops)</td>\n",
       "    </tr>\n",
       "    <tr>\n",
       "      <th>4</th>\n",
       "      <td>0.234637</td>\n",
       "      <td>(Allergy Pills)</td>\n",
       "    </tr>\n",
       "    <tr>\n",
       "      <th>1</th>\n",
       "      <td>0.206704</td>\n",
       "      <td>(Pain Relief Tablets)</td>\n",
       "    </tr>\n",
       "    <tr>\n",
       "      <th>5</th>\n",
       "      <td>0.201117</td>\n",
       "      <td>(Cough Syrup)</td>\n",
       "    </tr>\n",
       "    <tr>\n",
       "      <th>16</th>\n",
       "      <td>0.067039</td>\n",
       "      <td>(Antiseptic Cream, Allergy Pills)</td>\n",
       "    </tr>\n",
       "    <tr>\n",
       "      <th>26</th>\n",
       "      <td>0.067039</td>\n",
       "      <td>(Nasal Spray, Digestive Enzyme)</td>\n",
       "    </tr>\n",
       "    <tr>\n",
       "      <th>13</th>\n",
       "      <td>0.067039</td>\n",
       "      <td>(Eye Drops, Antiseptic Cream)</td>\n",
       "    </tr>\n",
       "  </tbody>\n",
       "</table>\n",
       "</div>"
      ],
      "text/plain": [
       "     support                           itemsets\n",
       "3   0.279330                 (Antiseptic Cream)\n",
       "6   0.256983                      (Nasal Spray)\n",
       "0   0.256983                 (Digestive Enzyme)\n",
       "2   0.240223                        (Eye Drops)\n",
       "4   0.234637                    (Allergy Pills)\n",
       "1   0.206704              (Pain Relief Tablets)\n",
       "5   0.201117                      (Cough Syrup)\n",
       "16  0.067039  (Antiseptic Cream, Allergy Pills)\n",
       "26  0.067039    (Nasal Spray, Digestive Enzyme)\n",
       "13  0.067039      (Eye Drops, Antiseptic Cream)"
      ]
     },
     "execution_count": 13,
     "metadata": {},
     "output_type": "execute_result"
    }
   ],
   "source": [
    "frequent_itemsets_fpgrowth = fpgrowth(basket, min_support=0.02, use_colnames=True)\n",
    "frequent_itemsets_fpgrowth.sort_values(by='support', ascending=False, inplace=True)\n",
    "frequent_itemsets_fpgrowth.head(10)\n"
   ]
  },
  {
   "attachments": {},
   "cell_type": "markdown",
   "metadata": {},
   "source": [
    "## Step 4: Generate Association Rules\n",
    "- Generate association rules from the frequent itemsets.\n",
    "- Use confidence and lift metrics to filter strong rules.\n"
   ]
  },
  {
   "cell_type": "code",
   "execution_count": 14,
   "metadata": {},
   "outputs": [
    {
     "data": {
      "text/html": [
       "<div>\n",
       "<style scoped>\n",
       "    .dataframe tbody tr th:only-of-type {\n",
       "        vertical-align: middle;\n",
       "    }\n",
       "\n",
       "    .dataframe tbody tr th {\n",
       "        vertical-align: top;\n",
       "    }\n",
       "\n",
       "    .dataframe thead th {\n",
       "        text-align: right;\n",
       "    }\n",
       "</style>\n",
       "<table border=\"1\" class=\"dataframe\">\n",
       "  <thead>\n",
       "    <tr style=\"text-align: right;\">\n",
       "      <th></th>\n",
       "      <th>antecedents</th>\n",
       "      <th>consequents</th>\n",
       "      <th>antecedent support</th>\n",
       "      <th>consequent support</th>\n",
       "      <th>support</th>\n",
       "      <th>confidence</th>\n",
       "      <th>lift</th>\n",
       "      <th>representativity</th>\n",
       "      <th>leverage</th>\n",
       "      <th>conviction</th>\n",
       "      <th>zhangs_metric</th>\n",
       "      <th>jaccard</th>\n",
       "      <th>certainty</th>\n",
       "      <th>kulczynski</th>\n",
       "    </tr>\n",
       "  </thead>\n",
       "  <tbody>\n",
       "  </tbody>\n",
       "</table>\n",
       "</div>"
      ],
      "text/plain": [
       "Empty DataFrame\n",
       "Columns: [antecedents, consequents, antecedent support, consequent support, support, confidence, lift, representativity, leverage, conviction, zhangs_metric, jaccard, certainty, kulczynski]\n",
       "Index: []"
      ]
     },
     "execution_count": 14,
     "metadata": {},
     "output_type": "execute_result"
    }
   ],
   "source": [
    "rules = association_rules(frequent_itemsets_apriori, metric=\"confidence\", min_threshold=0.5)\n",
    "rules.sort_values(by='confidence', ascending=False, inplace=True)\n",
    "rules.head()\n"
   ]
  },
  {
   "attachments": {},
   "cell_type": "markdown",
   "metadata": {},
   "source": [
    "## Visualize Association Rules\n",
    "- Scatter plot of confidence vs lift to identify strong rules.\n"
   ]
  },
  {
   "cell_type": "code",
   "execution_count": 15,
   "metadata": {},
   "outputs": [
    {
     "data": {
      "image/png": "[encoded data removed]",
      "text/plain": [
       "<Figure size 800x600 with 1 Axes>"
      ]
     },
     "metadata": {},
     "output_type": "display_data"
    }
   ],
   "source": [
    "plt.figure(figsize=(8,6))\n",
    "sns.scatterplot(x='confidence', y='lift', data=rules)\n",
    "plt.title('Confidence vs Lift for Association Rules')\n",
    "plt.xlabel('Confidence')\n",
    "plt.ylabel('Lift')\n",
    "plt.show()\n"
   ]
  },
  {
   "attachments": {},
   "cell_type": "markdown",
   "metadata": {},
   "source": [
    "## Step 5: Comparative Analysis and Conclusion\n",
    "- FP-Growth is usually faster than Apriori, especially on large datasets, due to its tree structure.\n",
    "- Apriori generates candidate itemsets, which can be computationally expensive.\n",
    "- Data cleaning and parameter tuning are critical for meaningful results.\n",
    "- Association rules help identify useful item combinations for marketing strategies.\n",
    "\n",
    "---\n",
    "\n",
    "This lab enhanced understanding of association rule mining techniques and their practical application in retail data analysis.\n"
   ]
  }
 ],
 "metadata": {
  "kernelspec": {
   "display_name": "Python 3",
   "language": "python",
   "name": "python3"
  },
  "language_info": {
   "codemirror_mode": {
    "name": "ipython",
    "version": 3
   },
   "file_extension": ".py",
   "mimetype": "text/x-python",
   "name": "python",
   "nbconvert_exporter": "python",
   "pygments_lexer": "ipython3",
   "version": "3.12.5"
  },
  "orig_nbformat": 4
 },
 "nbformat": 4,
 "nbformat_minor": 2
}
